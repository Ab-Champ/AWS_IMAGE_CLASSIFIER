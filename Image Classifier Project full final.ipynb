{
 "cells": [
  {
   "cell_type": "markdown",
   "metadata": {},
   "source": [
    "## Prepare the workspace"
   ]
  },
  {
   "cell_type": "code",
   "execution_count": 1,
   "metadata": {},
   "outputs": [],
   "source": [
    "# Before you proceed, update the PATH\n",
    "import os\n",
    "os.environ['PATH'] = f\"{os.environ['PATH']}:/root/.local/bin\"\n",
    "os.environ['PATH'] = f\"{os.environ['PATH']}:/opt/conda/lib/python3.6/site-packages\"\n",
    "# Restart the Kernel at this point. "
   ]
  },
  {
   "cell_type": "code",
   "execution_count": 1,
   "metadata": {},
   "outputs": [
    {
     "name": "stdout",
     "output_type": "stream",
     "text": [
      "Defaulting to user installation because normal site-packages is not writeable\n",
      "\u001b[31mERROR: Could not find a version that satisfies the requirement torch==1.0.0 (from versions: 1.11.0, 1.12.0, 1.12.1, 1.13.0, 1.13.1, 2.0.0, 2.0.1, 2.1.0, 2.1.1, 2.1.2)\u001b[0m\u001b[31m\n",
      "\u001b[0m\u001b[31mERROR: No matching distribution found for torch==1.0.0\u001b[0m\u001b[31m\n",
      "\u001b[0m"
     ]
    }
   ],
   "source": [
    "# Do not execute the commands below unless you have restart the Kernel after updating the PATH. \n",
    "!python -m pip install torch==1.0.0"
   ]
  },
  {
   "cell_type": "code",
   "execution_count": 2,
   "metadata": {},
   "outputs": [
    {
     "name": "stdout",
     "output_type": "stream",
     "text": [
      "2.0.1\n",
      "True\n"
     ]
    }
   ],
   "source": [
    "# Check torch version and CUDA status if GPU is enabled.\n",
    "import torch\n",
    "print(torch.__version__)\n",
    "print(torch.cuda.is_available()) # Should return True when GPU is enabled. "
   ]
  },
  {
   "cell_type": "markdown",
   "metadata": {},
   "source": [
    "# Developing an AI application\n",
    "\n",
    "Going forward, AI algorithms will be incorporated into more and more everyday applications. For example, you might want to include an image classifier in a smart phone app. To do this, you'd use a deep learning model trained on hundreds of thousands of images as part of the overall application architecture. A large part of software development in the future will be using these types of models as common parts of applications. \n",
    "\n",
    "In this project, you'll train an image classifier to recognize different species of flowers. You can imagine using something like this in a phone app that tells you the name of the flower your camera is looking at. In practice you'd train this classifier, then export it for use in your application. We'll be using [this dataset](http://www.robots.ox.ac.uk/~vgg/data/flowers/102/index.html) of 102 flower categories, you can see a few examples below. \n",
    "\n",
    "<img src='assets/Flowers.png' width=500px>\n",
    "\n",
    "The project is broken down into multiple steps:\n",
    "\n",
    "* Load and preprocess the image dataset\n",
    "* Train the image classifier on your dataset\n",
    "* Use the trained classifier to predict image content\n",
    "\n",
    "We'll lead you through each part which you'll implement in Python.\n",
    "\n",
    "When you've completed this project, you'll have an application that can be trained on any set of labeled images. Here your network will be learning about flowers and end up as a command line application. But, what you do with your new skills depends on your imagination and effort in building a dataset. For example, imagine an app where you take a picture of a car, it tells you what the make and model is, then looks up information about it. Go build your own dataset and make something new.\n",
    "\n",
    "First up is importing the packages you'll need. It's good practice to keep all the imports at the beginning of your code. As you work through this notebook and find you need to import a package, make sure to add the import up here."
   ]
  },
  {
   "cell_type": "code",
   "execution_count": 3,
   "metadata": {},
   "outputs": [],
   "source": [
    "# Imports here\n",
    "\n",
    "import numpy as np\n",
    "import matplotlib.pyplot as plt\n",
    "import time\n",
    "import torch\n",
    "import numpy as np\n",
    "from torch import nn\n",
    "from torch import optim\n",
    "import torch.nn.functional as F\n",
    "from torchvision import datasets, transforms, models\n",
    "import json\n",
    "from collections import OrderedDict\n",
    "from PIL import Image"
   ]
  },
  {
   "cell_type": "markdown",
   "metadata": {},
   "source": [
    "## Load the data\n",
    "\n",
    "Here you'll use `torchvision` to load the data ([documentation](http://pytorch.org/docs/0.3.0/torchvision/index.html)). The data should be included alongside this notebook, otherwise you can [download it here](https://s3.amazonaws.com/content.udacity-data.com/nd089/flower_data.tar.gz). "
   ]
  },
  {
   "cell_type": "markdown",
   "metadata": {},
   "source": [
    "If you do not find the `flowers/` dataset in the current directory, **/workspace/home/aipnd-project/**, you can download it using the following commands. \n",
    "\n",
    "```bash\n",
    "!wget 'https://s3.amazonaws.com/content.udacity-data.com/nd089/flower_data.tar.gz'\n",
    "!unlink flowers\n",
    "!mkdir flowers && tar -xzf flower_data.tar.gz -C flowers\n",
    "```\n"
   ]
  },
  {
   "cell_type": "markdown",
   "metadata": {},
   "source": [
    "## Data Description\n",
    "The dataset is split into three parts, training, validation, and testing. For the training, you'll want to apply transformations such as random scaling, cropping, and flipping. This will help the network generalize leading to better performance. You'll also need to make sure the input data is resized to 224x224 pixels as required by the pre-trained networks.\n",
    "\n",
    "The validation and testing sets are used to measure the model's performance on data it hasn't seen yet. For this you don't want any scaling or rotation transformations, but you'll need to resize then crop the images to the appropriate size.\n",
    "\n",
    "The pre-trained networks you'll use were trained on the ImageNet dataset where each color channel was normalized separately. For all three sets you'll need to normalize the means and standard deviations of the images to what the network expects. For the means, it's `[0.485, 0.456, 0.406]` and for the standard deviations `[0.229, 0.224, 0.225]`, calculated from the ImageNet images.  These values will shift each color channel to be centered at 0 and range from -1 to 1.\n",
    " "
   ]
  },
  {
   "cell_type": "code",
   "execution_count": 4,
   "metadata": {},
   "outputs": [],
   "source": [
    "data_dir = 'flowers'\n",
    "train_dir = data_dir + '/train'\n",
    "valid_dir = data_dir + '/valid'\n",
    "test_dir = data_dir + '/test'"
   ]
  },
  {
   "cell_type": "code",
   "execution_count": 23,
   "metadata": {},
   "outputs": [],
   "source": [
    "train_data_transforms = transforms.Compose([transforms.RandomRotation(30),\n",
    "                                           transforms.RandomResizedCrop(224),\n",
    "                                           transforms.RandomHorizontalFlip(),\n",
    "                                           transforms.ToTensor(),\n",
    "                                           transforms.Normalize([0.485,0.456,0.406],[0.229,0.224,0.225])])\n",
    "\n",
    "valid_data_transforms = transforms.Compose([transforms.Resize(256),\n",
    "                                           transforms.RandomResizedCrop(224),\n",
    "                                           transforms.ToTensor(),\n",
    "                                           transforms.Normalize([0.485,0.456,0.406],[0.229,0.224,0.225])])\n",
    "\n",
    "test_data_transforms = transforms.Compose([transforms.Resize(256),\n",
    "                                           transforms.CenterCrop(224),\n",
    "                                           transforms.ToTensor(),\n",
    "                                           transforms.Normalize([0.485,0.456,0.406],[0.229,0.224,0.225])])\n",
    "\n",
    "# TODO: Load the datasets with ImageFolder\n",
    "image_datasets = {}\n",
    "image_datasets[\"train_data\"] = datasets.ImageFolder(train_dir, transform = train_data_transforms)\n",
    "image_datasets[\"valid_data\"] = datasets.ImageFolder(valid_dir, transform = valid_data_transforms)\n",
    "image_datasets[\"test_data\"] = datasets.ImageFolder(test_dir, transform = test_data_transforms)\n",
    "\n",
    "# TODO: Using the image datasets and the trainforms, define the dataloaders\n",
    "trainloader = torch.utils.data.DataLoader(image_datasets[\"train_data\"], batch_size = 64, shuffle = True)\n",
    "validloader = torch.utils.data.DataLoader(image_datasets[\"valid_data\"], batch_size = 32)\n",
    "testloader = torch.utils.data.DataLoader(image_datasets[\"test_data\"], batch_size = 32)"
   ]
  },
  {
   "cell_type": "markdown",
   "metadata": {},
   "source": [
    "### Label mapping\n",
    "\n",
    "You'll also need to load in a mapping from category label to category name. You can find this in the file `cat_to_name.json`. It's a JSON object which you can read in with the [`json` module](https://docs.python.org/2/library/json.html). This will give you a dictionary mapping the integer encoded categories to the actual names of the flowers."
   ]
  },
  {
   "cell_type": "code",
   "execution_count": 24,
   "metadata": {},
   "outputs": [],
   "source": [
    "import json\n",
    "\n",
    "with open('cat_to_name.json', 'r') as f:\n",
    "    cat_to_name = json.load(f)\n",
    "categories = len(cat_to_name)"
   ]
  },
  {
   "cell_type": "markdown",
   "metadata": {},
   "source": [
    "# Building and training the classifier\n",
    "\n",
    "Now that the data is ready, it's time to build and train the classifier. As usual, you should use one of the pretrained models from `torchvision.models` to get the image features. Build and train a new feed-forward classifier using those features.\n",
    "\n",
    "We're going to leave this part up to you. Refer to [the rubric](https://review.udacity.com/#!/rubrics/1663/view) for guidance on successfully completing this section. Things you'll need to do:\n",
    "\n",
    "* Load a [pre-trained network](http://pytorch.org/docs/master/torchvision/models.html) (If you need a starting point, the VGG networks work great and are straightforward to use)\n",
    "* Define a new, untrained feed-forward network as a classifier, using ReLU activations and dropout\n",
    "* Train the classifier layers using backpropagation using the pre-trained network to get the features\n",
    "* Track the loss and accuracy on the validation set to determine the best hyperparameters\n",
    "\n",
    "We've left a cell open for you below, but use as many as you need. Our advice is to break the problem up into smaller parts you can run separately. Check that each part is doing what you expect, then move on to the next. You'll likely find that as you work through each part, you'll need to go back and modify your previous code. This is totally normal!\n",
    "\n",
    "When training make sure you're updating only the weights of the feed-forward network. You should be able to get the validation accuracy above 70% if you build everything right. Make sure to try different hyperparameters (learning rate, units in the classifier, epochs, etc) to find the best model. Save those hyperparameters to use as default values in the next part of the project.\n",
    "\n",
    "One last important tip if you're using the workspace to run your code: To avoid having your workspace disconnect during the long-running tasks in this notebook, please read in the earlier page in this lesson called Intro to\n",
    "GPU Workspaces about Keeping Your Session Active. You'll want to include code from the workspace_utils.py module.\n",
    "\n",
    "## Note for Workspace users: \n",
    "If your network is over 1 GB when saved as a checkpoint, there might be issues with saving backups in your workspace. Typically this happens with wide dense layers after the convolutional layers. If your saved checkpoint is larger than 1 GB (you can open a terminal and check with `ls -lh`), you should reduce the size of your hidden layers and train again."
   ]
  },
  {
   "cell_type": "code",
   "execution_count": 25,
   "metadata": {},
   "outputs": [
    {
     "name": "stderr",
     "output_type": "stream",
     "text": [
      "/opt/conda/lib/python3.10/site-packages/torchvision/models/_utils.py:208: UserWarning: The parameter 'pretrained' is deprecated since 0.13 and may be removed in the future, please use 'weights' instead.\n",
      "  warnings.warn(\n",
      "/opt/conda/lib/python3.10/site-packages/torchvision/models/_utils.py:223: UserWarning: Arguments other than a weight enum or `None` for 'weights' are deprecated since 0.13 and may be removed in the future. The current behavior is equivalent to passing `weights=DenseNet121_Weights.IMAGENET1K_V1`. You can also use `weights=DenseNet121_Weights.DEFAULT` to get the most up-to-date weights.\n",
      "  warnings.warn(msg)\n"
     ]
    }
   ],
   "source": [
    "\n",
    "model_dn = models.densenet121(pretrained = True)\n",
    "\n",
    "#\n",
    "for param in model_dn.parameters():\n",
    "    param.requires_grad = False \n",
    "classifier = nn.Sequential(OrderedDict([\n",
    "                          ('dropout1', nn.Dropout(0.1)),\n",
    "                          ('fc1', nn.Linear(1024,512)),\n",
    "                          ('relu1', nn.ReLU()),\n",
    "                          ('dropout2', nn.Linear(512,102)),\n",
    "                          ('output', nn.LogSoftmax(dim=1))\n",
    "                          ]))\n",
    "\n",
    "model_dn.classifier = classifier \n",
    "\n",
    "criterion = nn.NLLLoss()\n",
    "optimizer = optim.Adam(model_dn.classifier.parameters(), lr=0.001)"
   ]
  },
  {
   "cell_type": "code",
   "execution_count": 26,
   "metadata": {},
   "outputs": [],
   "source": [
    "# Defining validation \n",
    "def validation(device, model, valid_loader, criterion): \n",
    "    model_dn.to(device)\n",
    "    valid_loss = 0\n",
    "    accuracy = 0\n",
    "    for inputs, labels in valid_loader:\n",
    "        \n",
    "        inputs = inputs.to(device)\n",
    "        labels = labels.to(device)\n",
    "        output = model.forward(inputs)\n",
    "        valid_loss += criterion(output, labels).item()\n",
    "\n",
    "        ps = torch.exp(output)\n",
    "        equality = (labels.data == ps.max(dim=1)[1])\n",
    "        accuracy += equality.type(torch.FloatTensor).mean()\n",
    "    \n",
    "    return valid_loss, accuracy"
   ]
  },
  {
   "cell_type": "code",
   "execution_count": 27,
   "metadata": {},
   "outputs": [
    {
     "name": "stdout",
     "output_type": "stream",
     "text": [
      "___Starting Epoch 1/10___\n",
      "Epoch: 1/10.. Training Loss: 4.492..  Training_Accuracy: 4.531 Validation Loss: 4.361..  Validation Accuracy: 7.572%\n",
      "Epoch: 1/10.. Training Loss: 4.216..  Training_Accuracy: 17.188 Validation Loss: 4.053..  Validation Accuracy: 11.779%\n",
      "Epoch: 1/10.. Training Loss: 3.898..  Training_Accuracy: 33.594 Validation Loss: 3.715..  Validation Accuracy: 18.870%\n",
      "Epoch: 1/10.. Training Loss: 3.618..  Training_Accuracy: 61.250 Validation Loss: 3.234..  Validation Accuracy: 39.076%\n",
      "Epoch: 1/10.. Training Loss: 3.064..  Training_Accuracy: 98.125 Validation Loss: 2.876..  Validation Accuracy: 41.560%\n",
      "Epoch: 1/10.. Training Loss: 2.784..  Training_Accuracy: 137.969 Validation Loss: 2.494..  Validation Accuracy: 54.728%\n",
      "Epoch: 1/10.. Training Loss: 2.519..  Training_Accuracy: 184.688 Validation Loss: 2.277..  Validation Accuracy: 52.310%\n",
      "Epoch: 1/10.. Training Loss: 2.046..  Training_Accuracy: 241.406 Validation Loss: 1.967..  Validation Accuracy: 57.612%\n",
      "Epoch: 1/10.. Training Loss: 1.934..  Training_Accuracy: 300.312 Validation Loss: 1.798..  Validation Accuracy: 61.672%\n",
      "Epoch: 1/10.. Training Loss: 1.746..  Training_Accuracy: 360.000 Validation Loss: 1.656..  Validation Accuracy: 66.560%\n",
      "___Starting Epoch 2/10___\n",
      "Epoch: 2/10.. Training Loss: 1.108..  Training_Accuracy: 45.625 Validation Loss: 1.506..  Validation Accuracy: 68.389%\n",
      "Epoch: 2/10.. Training Loss: 1.528..  Training_Accuracy: 112.969 Validation Loss: 1.408..  Validation Accuracy: 69.418%\n",
      "Epoch: 2/10.. Training Loss: 1.335..  Training_Accuracy: 184.844 Validation Loss: 1.386..  Validation Accuracy: 67.642%\n",
      "Epoch: 2/10.. Training Loss: 1.388..  Training_Accuracy: 250.781 Validation Loss: 1.216..  Validation Accuracy: 71.474%\n",
      "Epoch: 2/10.. Training Loss: 1.148..  Training_Accuracy: 325.156 Validation Loss: 1.156..  Validation Accuracy: 76.669%\n",
      "Epoch: 2/10.. Training Loss: 1.165..  Training_Accuracy: 397.188 Validation Loss: 1.160..  Validation Accuracy: 69.738%\n",
      "Epoch: 2/10.. Training Loss: 1.053..  Training_Accuracy: 469.844 Validation Loss: 1.073..  Validation Accuracy: 75.160%\n",
      "Epoch: 2/10.. Training Loss: 1.089..  Training_Accuracy: 542.656 Validation Loss: 1.094..  Validation Accuracy: 73.932%\n",
      "Epoch: 2/10.. Training Loss: 1.115..  Training_Accuracy: 615.156 Validation Loss: 0.975..  Validation Accuracy: 77.511%\n",
      "Epoch: 2/10.. Training Loss: 1.016..  Training_Accuracy: 689.844 Validation Loss: 0.936..  Validation Accuracy: 77.457%\n",
      "___Starting Epoch 3/10___\n",
      "Epoch: 3/10.. Training Loss: 0.334..  Training_Accuracy: 31.875 Validation Loss: 0.964..  Validation Accuracy: 75.855%\n",
      "Epoch: 3/10.. Training Loss: 0.839..  Training_Accuracy: 110.000 Validation Loss: 0.847..  Validation Accuracy: 79.728%\n",
      "Epoch: 3/10.. Training Loss: 0.827..  Training_Accuracy: 188.906 Validation Loss: 0.895..  Validation Accuracy: 78.659%\n",
      "Epoch: 3/10.. Training Loss: 0.847..  Training_Accuracy: 270.312 Validation Loss: 0.871..  Validation Accuracy: 79.167%\n",
      "Epoch: 3/10.. Training Loss: 0.914..  Training_Accuracy: 347.969 Validation Loss: 0.852..  Validation Accuracy: 78.526%\n",
      "Epoch: 3/10.. Training Loss: 0.761..  Training_Accuracy: 428.906 Validation Loss: 0.879..  Validation Accuracy: 75.828%\n",
      "Epoch: 3/10.. Training Loss: 0.831..  Training_Accuracy: 507.969 Validation Loss: 0.798..  Validation Accuracy: 80.609%\n",
      "Epoch: 3/10.. Training Loss: 0.752..  Training_Accuracy: 589.062 Validation Loss: 0.765..  Validation Accuracy: 81.838%\n",
      "Epoch: 3/10.. Training Loss: 0.743..  Training_Accuracy: 669.688 Validation Loss: 0.779..  Validation Accuracy: 80.515%\n",
      "Epoch: 3/10.. Training Loss: 0.782..  Training_Accuracy: 749.531 Validation Loss: 0.757..  Validation Accuracy: 81.237%\n",
      "___Starting Epoch 4/10___\n",
      "Epoch: 4/10.. Training Loss: 0.095..  Training_Accuracy: 7.188 Validation Loss: 0.800..  Validation Accuracy: 79.701%\n",
      "Epoch: 4/10.. Training Loss: 0.695..  Training_Accuracy: 88.281 Validation Loss: 0.719..  Validation Accuracy: 82.292%\n",
      "Epoch: 4/10.. Training Loss: 0.664..  Training_Accuracy: 171.719 Validation Loss: 0.767..  Validation Accuracy: 80.422%\n",
      "Epoch: 4/10.. Training Loss: 0.660..  Training_Accuracy: 254.063 Validation Loss: 0.742..  Validation Accuracy: 79.888%\n",
      "Epoch: 4/10.. Training Loss: 0.669..  Training_Accuracy: 336.719 Validation Loss: 0.708..  Validation Accuracy: 83.534%\n",
      "Epoch: 4/10.. Training Loss: 0.729..  Training_Accuracy: 418.437 Validation Loss: 0.668..  Validation Accuracy: 83.133%\n",
      "Epoch: 4/10.. Training Loss: 0.700..  Training_Accuracy: 501.250 Validation Loss: 0.698..  Validation Accuracy: 83.681%\n",
      "Epoch: 4/10.. Training Loss: 0.621..  Training_Accuracy: 584.531 Validation Loss: 0.642..  Validation Accuracy: 83.587%\n",
      "Epoch: 4/10.. Training Loss: 0.660..  Training_Accuracy: 666.406 Validation Loss: 0.636..  Validation Accuracy: 83.948%\n",
      "Epoch: 4/10.. Training Loss: 0.679..  Training_Accuracy: 748.750 Validation Loss: 0.707..  Validation Accuracy: 81.143%\n",
      "Epoch: 4/10.. Training Loss: 0.594..  Training_Accuracy: 832.812 Validation Loss: 0.605..  Validation Accuracy: 84.161%\n",
      "___Starting Epoch 5/10___\n",
      "Epoch: 5/10.. Training Loss: 0.505..  Training_Accuracy: 67.344 Validation Loss: 0.685..  Validation Accuracy: 83.560%\n",
      "Epoch: 5/10.. Training Loss: 0.603..  Training_Accuracy: 152.031 Validation Loss: 0.688..  Validation Accuracy: 80.529%\n",
      "Epoch: 5/10.. Training Loss: 0.707..  Training_Accuracy: 234.531 Validation Loss: 0.686..  Validation Accuracy: 81.197%\n",
      "Epoch: 5/10.. Training Loss: 0.598..  Training_Accuracy: 320.156 Validation Loss: 0.627..  Validation Accuracy: 83.200%\n",
      "Epoch: 5/10.. Training Loss: 0.565..  Training_Accuracy: 404.531 Validation Loss: 0.619..  Validation Accuracy: 83.587%\n",
      "Epoch: 5/10.. Training Loss: 0.576..  Training_Accuracy: 489.531 Validation Loss: 0.663..  Validation Accuracy: 83.347%\n",
      "Epoch: 5/10.. Training Loss: 0.519..  Training_Accuracy: 575.000 Validation Loss: 0.580..  Validation Accuracy: 84.936%\n",
      "Epoch: 5/10.. Training Loss: 0.603..  Training_Accuracy: 657.969 Validation Loss: 0.643..  Validation Accuracy: 83.640%\n",
      "Epoch: 5/10.. Training Loss: 0.570..  Training_Accuracy: 742.969 Validation Loss: 0.650..  Validation Accuracy: 83.801%\n",
      "Epoch: 5/10.. Training Loss: 0.556..  Training_Accuracy: 828.125 Validation Loss: 0.647..  Validation Accuracy: 84.068%\n",
      "___Starting Epoch 6/10___\n",
      "Epoch: 6/10.. Training Loss: 0.235..  Training_Accuracy: 42.812 Validation Loss: 0.591..  Validation Accuracy: 84.882%\n",
      "Epoch: 6/10.. Training Loss: 0.542..  Training_Accuracy: 128.906 Validation Loss: 0.629..  Validation Accuracy: 84.215%\n",
      "Epoch: 6/10.. Training Loss: 0.616..  Training_Accuracy: 210.938 Validation Loss: 0.602..  Validation Accuracy: 84.375%\n",
      "Epoch: 6/10.. Training Loss: 0.545..  Training_Accuracy: 296.094 Validation Loss: 0.644..  Validation Accuracy: 84.963%\n",
      "Epoch: 6/10.. Training Loss: 0.556..  Training_Accuracy: 382.188 Validation Loss: 0.641..  Validation Accuracy: 82.479%\n",
      "Epoch: 6/10.. Training Loss: 0.542..  Training_Accuracy: 469.219 Validation Loss: 0.673..  Validation Accuracy: 82.585%\n",
      "Epoch: 6/10.. Training Loss: 0.510..  Training_Accuracy: 556.719 Validation Loss: 0.600..  Validation Accuracy: 85.270%\n",
      "Epoch: 6/10.. Training Loss: 0.514..  Training_Accuracy: 643.594 Validation Loss: 0.573..  Validation Accuracy: 84.762%\n",
      "Epoch: 6/10.. Training Loss: 0.591..  Training_Accuracy: 728.281 Validation Loss: 0.592..  Validation Accuracy: 84.869%\n",
      "Epoch: 6/10.. Training Loss: 0.526..  Training_Accuracy: 814.844 Validation Loss: 0.558..  Validation Accuracy: 84.575%\n",
      "___Starting Epoch 7/10___\n",
      "Epoch: 7/10.. Training Loss: 0.138..  Training_Accuracy: 15.938 Validation Loss: 0.582..  Validation Accuracy: 85.123%\n",
      "Epoch: 7/10.. Training Loss: 0.489..  Training_Accuracy: 102.031 Validation Loss: 0.577..  Validation Accuracy: 83.827%\n",
      "Epoch: 7/10.. Training Loss: 0.537..  Training_Accuracy: 189.062 Validation Loss: 0.541..  Validation Accuracy: 85.751%\n",
      "Epoch: 7/10.. Training Loss: 0.489..  Training_Accuracy: 276.719 Validation Loss: 0.543..  Validation Accuracy: 86.205%\n",
      "Epoch: 7/10.. Training Loss: 0.501..  Training_Accuracy: 364.219 Validation Loss: 0.628..  Validation Accuracy: 83.133%\n",
      "Epoch: 7/10.. Training Loss: 0.511..  Training_Accuracy: 450.156 Validation Loss: 0.572..  Validation Accuracy: 85.751%\n",
      "Epoch: 7/10.. Training Loss: 0.486..  Training_Accuracy: 537.500 Validation Loss: 0.482..  Validation Accuracy: 87.767%\n",
      "Epoch: 7/10.. Training Loss: 0.463..  Training_Accuracy: 623.750 Validation Loss: 0.611..  Validation Accuracy: 84.121%\n",
      "Epoch: 7/10.. Training Loss: 0.545..  Training_Accuracy: 709.062 Validation Loss: 0.499..  Validation Accuracy: 88.154%\n",
      "Epoch: 7/10.. Training Loss: 0.465..  Training_Accuracy: 796.406 Validation Loss: 0.539..  Validation Accuracy: 86.445%\n",
      "Epoch: 7/10.. Training Loss: 0.545..  Training_Accuracy: 882.656 Validation Loss: 0.541..  Validation Accuracy: 87.407%\n",
      "___Starting Epoch 8/10___\n",
      "Epoch: 8/10.. Training Loss: 0.409..  Training_Accuracy: 79.844 Validation Loss: 0.570..  Validation Accuracy: 84.669%\n",
      "Epoch: 8/10.. Training Loss: 0.405..  Training_Accuracy: 168.281 Validation Loss: 0.545..  Validation Accuracy: 84.669%\n",
      "Epoch: 8/10.. Training Loss: 0.434..  Training_Accuracy: 256.562 Validation Loss: 0.527..  Validation Accuracy: 87.433%\n",
      "Epoch: 8/10.. Training Loss: 0.408..  Training_Accuracy: 345.156 Validation Loss: 0.527..  Validation Accuracy: 85.377%\n",
      "Epoch: 8/10.. Training Loss: 0.481..  Training_Accuracy: 431.563 Validation Loss: 0.582..  Validation Accuracy: 84.522%\n",
      "Epoch: 8/10.. Training Loss: 0.484..  Training_Accuracy: 518.438 Validation Loss: 0.539..  Validation Accuracy: 85.510%\n",
      "Epoch: 8/10.. Training Loss: 0.475..  Training_Accuracy: 605.000 Validation Loss: 0.607..  Validation Accuracy: 84.629%\n",
      "Epoch: 8/10.. Training Loss: 0.531..  Training_Accuracy: 691.250 Validation Loss: 0.569..  Validation Accuracy: 85.443%\n",
      "Epoch: 8/10.. Training Loss: 0.525..  Training_Accuracy: 776.406 Validation Loss: 0.547..  Validation Accuracy: 85.390%\n",
      "Epoch: 8/10.. Training Loss: 0.472..  Training_Accuracy: 862.188 Validation Loss: 0.552..  Validation Accuracy: 84.722%\n",
      "___Starting Epoch 9/10___\n",
      "Epoch: 9/10.. Training Loss: 0.269..  Training_Accuracy: 52.344 Validation Loss: 0.547..  Validation Accuracy: 86.205%\n",
      "Epoch: 9/10.. Training Loss: 0.508..  Training_Accuracy: 139.375 Validation Loss: 0.517..  Validation Accuracy: 86.592%\n",
      "Epoch: 9/10.. Training Loss: 0.469..  Training_Accuracy: 226.562 Validation Loss: 0.597..  Validation Accuracy: 84.909%\n",
      "Epoch: 9/10.. Training Loss: 0.440..  Training_Accuracy: 315.312 Validation Loss: 0.545..  Validation Accuracy: 85.363%\n"
     ]
    },
    {
     "ename": "KeyboardInterrupt",
     "evalue": "",
     "output_type": "error",
     "traceback": [
      "\u001b[0;31m---------------------------------------------------------------------------\u001b[0m",
      "\u001b[0;31mKeyboardInterrupt\u001b[0m                         Traceback (most recent call last)",
      "Cell \u001b[0;32mIn[27], line 37\u001b[0m\n\u001b[1;32m     33\u001b[0m model_dn\u001b[38;5;241m.\u001b[39meval ()\n\u001b[1;32m     36\u001b[0m \u001b[38;5;28;01mwith\u001b[39;00m torch\u001b[38;5;241m.\u001b[39mno_grad():\n\u001b[0;32m---> 37\u001b[0m     valid_loss, accuracy \u001b[38;5;241m=\u001b[39m \u001b[43mvalidation\u001b[49m\u001b[43m(\u001b[49m\u001b[43mdevice\u001b[49m\u001b[43m,\u001b[49m\u001b[43m \u001b[49m\u001b[43mmodel_dn\u001b[49m\u001b[43m,\u001b[49m\u001b[43m \u001b[49m\u001b[43mvalidloader\u001b[49m\u001b[43m,\u001b[49m\u001b[43m \u001b[49m\u001b[43mcriterion\u001b[49m\u001b[43m)\u001b[49m\n\u001b[1;32m     39\u001b[0m \u001b[38;5;28mprint\u001b[39m(\u001b[38;5;124m\"\u001b[39m\u001b[38;5;124mEpoch: \u001b[39m\u001b[38;5;132;01m{}\u001b[39;00m\u001b[38;5;124m/\u001b[39m\u001b[38;5;132;01m{}\u001b[39;00m\u001b[38;5;124m..\u001b[39m\u001b[38;5;124m\"\u001b[39m\u001b[38;5;241m.\u001b[39mformat(e\u001b[38;5;241m+\u001b[39m\u001b[38;5;241m1\u001b[39m, epochs),\n\u001b[1;32m     40\u001b[0m       \u001b[38;5;124m\"\u001b[39m\u001b[38;5;124mTraining Loss: \u001b[39m\u001b[38;5;132;01m{:.3f}\u001b[39;00m\u001b[38;5;124m.. \u001b[39m\u001b[38;5;124m\"\u001b[39m\u001b[38;5;241m.\u001b[39mformat(running_loss\u001b[38;5;241m/\u001b[39mprint_every),\n\u001b[1;32m     41\u001b[0m       \u001b[38;5;124m\"\u001b[39m\u001b[38;5;124mTraining_Accuracy: \u001b[39m\u001b[38;5;132;01m{:.3f}\u001b[39;00m\u001b[38;5;124m\"\u001b[39m\u001b[38;5;241m.\u001b[39mformat((running_accuracy\u001b[38;5;241m/\u001b[39mprint_every)\u001b[38;5;241m*\u001b[39m\u001b[38;5;241m100\u001b[39m),\n\u001b[1;32m     42\u001b[0m       \u001b[38;5;124m\"\u001b[39m\u001b[38;5;124mValidation Loss: \u001b[39m\u001b[38;5;132;01m{:.3f}\u001b[39;00m\u001b[38;5;124m.. \u001b[39m\u001b[38;5;124m\"\u001b[39m\u001b[38;5;241m.\u001b[39mformat(valid_loss\u001b[38;5;241m/\u001b[39m\u001b[38;5;28mlen\u001b[39m(validloader)),\n\u001b[1;32m     43\u001b[0m       \u001b[38;5;124m\"\u001b[39m\u001b[38;5;124mValidation Accuracy: \u001b[39m\u001b[38;5;132;01m{:.3f}\u001b[39;00m\u001b[38;5;124m%\u001b[39m\u001b[38;5;124m\"\u001b[39m\u001b[38;5;241m.\u001b[39mformat(accuracy\u001b[38;5;241m/\u001b[39m\u001b[38;5;28mlen\u001b[39m(validloader)\u001b[38;5;241m*\u001b[39m\u001b[38;5;241m100\u001b[39m))\n\u001b[1;32m     45\u001b[0m running_loss \u001b[38;5;241m=\u001b[39m \u001b[38;5;241m0\u001b[39m\n",
      "Cell \u001b[0;32mIn[26], line 6\u001b[0m, in \u001b[0;36mvalidation\u001b[0;34m(device, model, valid_loader, criterion)\u001b[0m\n\u001b[1;32m      4\u001b[0m valid_loss \u001b[38;5;241m=\u001b[39m \u001b[38;5;241m0\u001b[39m\n\u001b[1;32m      5\u001b[0m accuracy \u001b[38;5;241m=\u001b[39m \u001b[38;5;241m0\u001b[39m\n\u001b[0;32m----> 6\u001b[0m \u001b[38;5;28;01mfor\u001b[39;00m inputs, labels \u001b[38;5;129;01min\u001b[39;00m valid_loader:\n\u001b[1;32m      8\u001b[0m     inputs \u001b[38;5;241m=\u001b[39m inputs\u001b[38;5;241m.\u001b[39mto(device)\n\u001b[1;32m      9\u001b[0m     labels \u001b[38;5;241m=\u001b[39m labels\u001b[38;5;241m.\u001b[39mto(device)\n",
      "File \u001b[0;32m/opt/conda/lib/python3.10/site-packages/torch/utils/data/dataloader.py:633\u001b[0m, in \u001b[0;36m_BaseDataLoaderIter.__next__\u001b[0;34m(self)\u001b[0m\n\u001b[1;32m    630\u001b[0m \u001b[38;5;28;01mif\u001b[39;00m \u001b[38;5;28mself\u001b[39m\u001b[38;5;241m.\u001b[39m_sampler_iter \u001b[38;5;129;01mis\u001b[39;00m \u001b[38;5;28;01mNone\u001b[39;00m:\n\u001b[1;32m    631\u001b[0m     \u001b[38;5;66;03m# TODO(https://github.com/pytorch/pytorch/issues/76750)\u001b[39;00m\n\u001b[1;32m    632\u001b[0m     \u001b[38;5;28mself\u001b[39m\u001b[38;5;241m.\u001b[39m_reset()  \u001b[38;5;66;03m# type: ignore[call-arg]\u001b[39;00m\n\u001b[0;32m--> 633\u001b[0m data \u001b[38;5;241m=\u001b[39m \u001b[38;5;28;43mself\u001b[39;49m\u001b[38;5;241;43m.\u001b[39;49m\u001b[43m_next_data\u001b[49m\u001b[43m(\u001b[49m\u001b[43m)\u001b[49m\n\u001b[1;32m    634\u001b[0m \u001b[38;5;28mself\u001b[39m\u001b[38;5;241m.\u001b[39m_num_yielded \u001b[38;5;241m+\u001b[39m\u001b[38;5;241m=\u001b[39m \u001b[38;5;241m1\u001b[39m\n\u001b[1;32m    635\u001b[0m \u001b[38;5;28;01mif\u001b[39;00m \u001b[38;5;28mself\u001b[39m\u001b[38;5;241m.\u001b[39m_dataset_kind \u001b[38;5;241m==\u001b[39m _DatasetKind\u001b[38;5;241m.\u001b[39mIterable \u001b[38;5;129;01mand\u001b[39;00m \\\n\u001b[1;32m    636\u001b[0m         \u001b[38;5;28mself\u001b[39m\u001b[38;5;241m.\u001b[39m_IterableDataset_len_called \u001b[38;5;129;01mis\u001b[39;00m \u001b[38;5;129;01mnot\u001b[39;00m \u001b[38;5;28;01mNone\u001b[39;00m \u001b[38;5;129;01mand\u001b[39;00m \\\n\u001b[1;32m    637\u001b[0m         \u001b[38;5;28mself\u001b[39m\u001b[38;5;241m.\u001b[39m_num_yielded \u001b[38;5;241m>\u001b[39m \u001b[38;5;28mself\u001b[39m\u001b[38;5;241m.\u001b[39m_IterableDataset_len_called:\n",
      "File \u001b[0;32m/opt/conda/lib/python3.10/site-packages/torch/utils/data/dataloader.py:677\u001b[0m, in \u001b[0;36m_SingleProcessDataLoaderIter._next_data\u001b[0;34m(self)\u001b[0m\n\u001b[1;32m    675\u001b[0m \u001b[38;5;28;01mdef\u001b[39;00m \u001b[38;5;21m_next_data\u001b[39m(\u001b[38;5;28mself\u001b[39m):\n\u001b[1;32m    676\u001b[0m     index \u001b[38;5;241m=\u001b[39m \u001b[38;5;28mself\u001b[39m\u001b[38;5;241m.\u001b[39m_next_index()  \u001b[38;5;66;03m# may raise StopIteration\u001b[39;00m\n\u001b[0;32m--> 677\u001b[0m     data \u001b[38;5;241m=\u001b[39m \u001b[38;5;28;43mself\u001b[39;49m\u001b[38;5;241;43m.\u001b[39;49m\u001b[43m_dataset_fetcher\u001b[49m\u001b[38;5;241;43m.\u001b[39;49m\u001b[43mfetch\u001b[49m\u001b[43m(\u001b[49m\u001b[43mindex\u001b[49m\u001b[43m)\u001b[49m  \u001b[38;5;66;03m# may raise StopIteration\u001b[39;00m\n\u001b[1;32m    678\u001b[0m     \u001b[38;5;28;01mif\u001b[39;00m \u001b[38;5;28mself\u001b[39m\u001b[38;5;241m.\u001b[39m_pin_memory:\n\u001b[1;32m    679\u001b[0m         data \u001b[38;5;241m=\u001b[39m _utils\u001b[38;5;241m.\u001b[39mpin_memory\u001b[38;5;241m.\u001b[39mpin_memory(data, \u001b[38;5;28mself\u001b[39m\u001b[38;5;241m.\u001b[39m_pin_memory_device)\n",
      "File \u001b[0;32m/opt/conda/lib/python3.10/site-packages/torch/utils/data/_utils/fetch.py:51\u001b[0m, in \u001b[0;36m_MapDatasetFetcher.fetch\u001b[0;34m(self, possibly_batched_index)\u001b[0m\n\u001b[1;32m     49\u001b[0m         data \u001b[38;5;241m=\u001b[39m \u001b[38;5;28mself\u001b[39m\u001b[38;5;241m.\u001b[39mdataset\u001b[38;5;241m.\u001b[39m__getitems__(possibly_batched_index)\n\u001b[1;32m     50\u001b[0m     \u001b[38;5;28;01melse\u001b[39;00m:\n\u001b[0;32m---> 51\u001b[0m         data \u001b[38;5;241m=\u001b[39m [\u001b[38;5;28mself\u001b[39m\u001b[38;5;241m.\u001b[39mdataset[idx] \u001b[38;5;28;01mfor\u001b[39;00m idx \u001b[38;5;129;01min\u001b[39;00m possibly_batched_index]\n\u001b[1;32m     52\u001b[0m \u001b[38;5;28;01melse\u001b[39;00m:\n\u001b[1;32m     53\u001b[0m     data \u001b[38;5;241m=\u001b[39m \u001b[38;5;28mself\u001b[39m\u001b[38;5;241m.\u001b[39mdataset[possibly_batched_index]\n",
      "File \u001b[0;32m/opt/conda/lib/python3.10/site-packages/torch/utils/data/_utils/fetch.py:51\u001b[0m, in \u001b[0;36m<listcomp>\u001b[0;34m(.0)\u001b[0m\n\u001b[1;32m     49\u001b[0m         data \u001b[38;5;241m=\u001b[39m \u001b[38;5;28mself\u001b[39m\u001b[38;5;241m.\u001b[39mdataset\u001b[38;5;241m.\u001b[39m__getitems__(possibly_batched_index)\n\u001b[1;32m     50\u001b[0m     \u001b[38;5;28;01melse\u001b[39;00m:\n\u001b[0;32m---> 51\u001b[0m         data \u001b[38;5;241m=\u001b[39m [\u001b[38;5;28;43mself\u001b[39;49m\u001b[38;5;241;43m.\u001b[39;49m\u001b[43mdataset\u001b[49m\u001b[43m[\u001b[49m\u001b[43midx\u001b[49m\u001b[43m]\u001b[49m \u001b[38;5;28;01mfor\u001b[39;00m idx \u001b[38;5;129;01min\u001b[39;00m possibly_batched_index]\n\u001b[1;32m     52\u001b[0m \u001b[38;5;28;01melse\u001b[39;00m:\n\u001b[1;32m     53\u001b[0m     data \u001b[38;5;241m=\u001b[39m \u001b[38;5;28mself\u001b[39m\u001b[38;5;241m.\u001b[39mdataset[possibly_batched_index]\n",
      "File \u001b[0;32m/opt/conda/lib/python3.10/site-packages/torchvision/datasets/folder.py:231\u001b[0m, in \u001b[0;36mDatasetFolder.__getitem__\u001b[0;34m(self, index)\u001b[0m\n\u001b[1;32m    229\u001b[0m sample \u001b[38;5;241m=\u001b[39m \u001b[38;5;28mself\u001b[39m\u001b[38;5;241m.\u001b[39mloader(path)\n\u001b[1;32m    230\u001b[0m \u001b[38;5;28;01mif\u001b[39;00m \u001b[38;5;28mself\u001b[39m\u001b[38;5;241m.\u001b[39mtransform \u001b[38;5;129;01mis\u001b[39;00m \u001b[38;5;129;01mnot\u001b[39;00m \u001b[38;5;28;01mNone\u001b[39;00m:\n\u001b[0;32m--> 231\u001b[0m     sample \u001b[38;5;241m=\u001b[39m \u001b[38;5;28;43mself\u001b[39;49m\u001b[38;5;241;43m.\u001b[39;49m\u001b[43mtransform\u001b[49m\u001b[43m(\u001b[49m\u001b[43msample\u001b[49m\u001b[43m)\u001b[49m\n\u001b[1;32m    232\u001b[0m \u001b[38;5;28;01mif\u001b[39;00m \u001b[38;5;28mself\u001b[39m\u001b[38;5;241m.\u001b[39mtarget_transform \u001b[38;5;129;01mis\u001b[39;00m \u001b[38;5;129;01mnot\u001b[39;00m \u001b[38;5;28;01mNone\u001b[39;00m:\n\u001b[1;32m    233\u001b[0m     target \u001b[38;5;241m=\u001b[39m \u001b[38;5;28mself\u001b[39m\u001b[38;5;241m.\u001b[39mtarget_transform(target)\n",
      "File \u001b[0;32m/opt/conda/lib/python3.10/site-packages/torchvision/transforms/transforms.py:95\u001b[0m, in \u001b[0;36mCompose.__call__\u001b[0;34m(self, img)\u001b[0m\n\u001b[1;32m     93\u001b[0m \u001b[38;5;28;01mdef\u001b[39;00m \u001b[38;5;21m__call__\u001b[39m(\u001b[38;5;28mself\u001b[39m, img):\n\u001b[1;32m     94\u001b[0m     \u001b[38;5;28;01mfor\u001b[39;00m t \u001b[38;5;129;01min\u001b[39;00m \u001b[38;5;28mself\u001b[39m\u001b[38;5;241m.\u001b[39mtransforms:\n\u001b[0;32m---> 95\u001b[0m         img \u001b[38;5;241m=\u001b[39m \u001b[43mt\u001b[49m\u001b[43m(\u001b[49m\u001b[43mimg\u001b[49m\u001b[43m)\u001b[49m\n\u001b[1;32m     96\u001b[0m     \u001b[38;5;28;01mreturn\u001b[39;00m img\n",
      "File \u001b[0;32m/opt/conda/lib/python3.10/site-packages/torch/nn/modules/module.py:1501\u001b[0m, in \u001b[0;36mModule._call_impl\u001b[0;34m(self, *args, **kwargs)\u001b[0m\n\u001b[1;32m   1496\u001b[0m \u001b[38;5;66;03m# If we don't have any hooks, we want to skip the rest of the logic in\u001b[39;00m\n\u001b[1;32m   1497\u001b[0m \u001b[38;5;66;03m# this function, and just call forward.\u001b[39;00m\n\u001b[1;32m   1498\u001b[0m \u001b[38;5;28;01mif\u001b[39;00m \u001b[38;5;129;01mnot\u001b[39;00m (\u001b[38;5;28mself\u001b[39m\u001b[38;5;241m.\u001b[39m_backward_hooks \u001b[38;5;129;01mor\u001b[39;00m \u001b[38;5;28mself\u001b[39m\u001b[38;5;241m.\u001b[39m_backward_pre_hooks \u001b[38;5;129;01mor\u001b[39;00m \u001b[38;5;28mself\u001b[39m\u001b[38;5;241m.\u001b[39m_forward_hooks \u001b[38;5;129;01mor\u001b[39;00m \u001b[38;5;28mself\u001b[39m\u001b[38;5;241m.\u001b[39m_forward_pre_hooks\n\u001b[1;32m   1499\u001b[0m         \u001b[38;5;129;01mor\u001b[39;00m _global_backward_pre_hooks \u001b[38;5;129;01mor\u001b[39;00m _global_backward_hooks\n\u001b[1;32m   1500\u001b[0m         \u001b[38;5;129;01mor\u001b[39;00m _global_forward_hooks \u001b[38;5;129;01mor\u001b[39;00m _global_forward_pre_hooks):\n\u001b[0;32m-> 1501\u001b[0m     \u001b[38;5;28;01mreturn\u001b[39;00m \u001b[43mforward_call\u001b[49m\u001b[43m(\u001b[49m\u001b[38;5;241;43m*\u001b[39;49m\u001b[43margs\u001b[49m\u001b[43m,\u001b[49m\u001b[43m \u001b[49m\u001b[38;5;241;43m*\u001b[39;49m\u001b[38;5;241;43m*\u001b[39;49m\u001b[43mkwargs\u001b[49m\u001b[43m)\u001b[49m\n\u001b[1;32m   1502\u001b[0m \u001b[38;5;66;03m# Do not call functions when jit is used\u001b[39;00m\n\u001b[1;32m   1503\u001b[0m full_backward_hooks, non_full_backward_hooks \u001b[38;5;241m=\u001b[39m [], []\n",
      "File \u001b[0;32m/opt/conda/lib/python3.10/site-packages/torchvision/transforms/transforms.py:361\u001b[0m, in \u001b[0;36mResize.forward\u001b[0;34m(self, img)\u001b[0m\n\u001b[1;32m    353\u001b[0m \u001b[38;5;28;01mdef\u001b[39;00m \u001b[38;5;21mforward\u001b[39m(\u001b[38;5;28mself\u001b[39m, img):\n\u001b[1;32m    354\u001b[0m \u001b[38;5;250m    \u001b[39m\u001b[38;5;124;03m\"\"\"\u001b[39;00m\n\u001b[1;32m    355\u001b[0m \u001b[38;5;124;03m    Args:\u001b[39;00m\n\u001b[1;32m    356\u001b[0m \u001b[38;5;124;03m        img (PIL Image or Tensor): Image to be scaled.\u001b[39;00m\n\u001b[0;32m   (...)\u001b[0m\n\u001b[1;32m    359\u001b[0m \u001b[38;5;124;03m        PIL Image or Tensor: Rescaled image.\u001b[39;00m\n\u001b[1;32m    360\u001b[0m \u001b[38;5;124;03m    \"\"\"\u001b[39;00m\n\u001b[0;32m--> 361\u001b[0m     \u001b[38;5;28;01mreturn\u001b[39;00m \u001b[43mF\u001b[49m\u001b[38;5;241;43m.\u001b[39;49m\u001b[43mresize\u001b[49m\u001b[43m(\u001b[49m\u001b[43mimg\u001b[49m\u001b[43m,\u001b[49m\u001b[43m \u001b[49m\u001b[38;5;28;43mself\u001b[39;49m\u001b[38;5;241;43m.\u001b[39;49m\u001b[43msize\u001b[49m\u001b[43m,\u001b[49m\u001b[43m \u001b[49m\u001b[38;5;28;43mself\u001b[39;49m\u001b[38;5;241;43m.\u001b[39;49m\u001b[43minterpolation\u001b[49m\u001b[43m,\u001b[49m\u001b[43m \u001b[49m\u001b[38;5;28;43mself\u001b[39;49m\u001b[38;5;241;43m.\u001b[39;49m\u001b[43mmax_size\u001b[49m\u001b[43m,\u001b[49m\u001b[43m \u001b[49m\u001b[38;5;28;43mself\u001b[39;49m\u001b[38;5;241;43m.\u001b[39;49m\u001b[43mantialias\u001b[49m\u001b[43m)\u001b[49m\n",
      "File \u001b[0;32m/opt/conda/lib/python3.10/site-packages/torchvision/transforms/functional.py:490\u001b[0m, in \u001b[0;36mresize\u001b[0;34m(img, size, interpolation, max_size, antialias)\u001b[0m\n\u001b[1;32m    488\u001b[0m         warnings\u001b[38;5;241m.\u001b[39mwarn(\u001b[38;5;124m\"\u001b[39m\u001b[38;5;124mAnti-alias option is always applied for PIL Image input. Argument antialias is ignored.\u001b[39m\u001b[38;5;124m\"\u001b[39m)\n\u001b[1;32m    489\u001b[0m     pil_interpolation \u001b[38;5;241m=\u001b[39m pil_modes_mapping[interpolation]\n\u001b[0;32m--> 490\u001b[0m     \u001b[38;5;28;01mreturn\u001b[39;00m \u001b[43mF_pil\u001b[49m\u001b[38;5;241;43m.\u001b[39;49m\u001b[43mresize\u001b[49m\u001b[43m(\u001b[49m\u001b[43mimg\u001b[49m\u001b[43m,\u001b[49m\u001b[43m \u001b[49m\u001b[43msize\u001b[49m\u001b[38;5;241;43m=\u001b[39;49m\u001b[43moutput_size\u001b[49m\u001b[43m,\u001b[49m\u001b[43m \u001b[49m\u001b[43minterpolation\u001b[49m\u001b[38;5;241;43m=\u001b[39;49m\u001b[43mpil_interpolation\u001b[49m\u001b[43m)\u001b[49m\n\u001b[1;32m    492\u001b[0m \u001b[38;5;28;01mreturn\u001b[39;00m F_t\u001b[38;5;241m.\u001b[39mresize(img, size\u001b[38;5;241m=\u001b[39moutput_size, interpolation\u001b[38;5;241m=\u001b[39minterpolation\u001b[38;5;241m.\u001b[39mvalue, antialias\u001b[38;5;241m=\u001b[39mantialias)\n",
      "File \u001b[0;32m/opt/conda/lib/python3.10/site-packages/torchvision/transforms/_functional_pil.py:250\u001b[0m, in \u001b[0;36mresize\u001b[0;34m(img, size, interpolation)\u001b[0m\n\u001b[1;32m    247\u001b[0m \u001b[38;5;28;01mif\u001b[39;00m \u001b[38;5;129;01mnot\u001b[39;00m (\u001b[38;5;28misinstance\u001b[39m(size, \u001b[38;5;28mlist\u001b[39m) \u001b[38;5;129;01mand\u001b[39;00m \u001b[38;5;28mlen\u001b[39m(size) \u001b[38;5;241m==\u001b[39m \u001b[38;5;241m2\u001b[39m):\n\u001b[1;32m    248\u001b[0m     \u001b[38;5;28;01mraise\u001b[39;00m \u001b[38;5;167;01mTypeError\u001b[39;00m(\u001b[38;5;124mf\u001b[39m\u001b[38;5;124m\"\u001b[39m\u001b[38;5;124mGot inappropriate size arg: \u001b[39m\u001b[38;5;132;01m{\u001b[39;00msize\u001b[38;5;132;01m}\u001b[39;00m\u001b[38;5;124m\"\u001b[39m)\n\u001b[0;32m--> 250\u001b[0m \u001b[38;5;28;01mreturn\u001b[39;00m \u001b[43mimg\u001b[49m\u001b[38;5;241;43m.\u001b[39;49m\u001b[43mresize\u001b[49m\u001b[43m(\u001b[49m\u001b[38;5;28;43mtuple\u001b[39;49m\u001b[43m(\u001b[49m\u001b[43msize\u001b[49m\u001b[43m[\u001b[49m\u001b[43m:\u001b[49m\u001b[43m:\u001b[49m\u001b[38;5;241;43m-\u001b[39;49m\u001b[38;5;241;43m1\u001b[39;49m\u001b[43m]\u001b[49m\u001b[43m)\u001b[49m\u001b[43m,\u001b[49m\u001b[43m \u001b[49m\u001b[43minterpolation\u001b[49m\u001b[43m)\u001b[49m\n",
      "File \u001b[0;32m/opt/conda/lib/python3.10/site-packages/PIL/Image.py:2192\u001b[0m, in \u001b[0;36mImage.resize\u001b[0;34m(self, size, resample, box, reducing_gap)\u001b[0m\n\u001b[1;32m   2184\u001b[0m             \u001b[38;5;28mself\u001b[39m \u001b[38;5;241m=\u001b[39m Image\u001b[38;5;241m.\u001b[39mreduce(\u001b[38;5;28mself\u001b[39m, factor, box\u001b[38;5;241m=\u001b[39mreduce_box)\n\u001b[1;32m   2185\u001b[0m         box \u001b[38;5;241m=\u001b[39m (\n\u001b[1;32m   2186\u001b[0m             (box[\u001b[38;5;241m0\u001b[39m] \u001b[38;5;241m-\u001b[39m reduce_box[\u001b[38;5;241m0\u001b[39m]) \u001b[38;5;241m/\u001b[39m factor_x,\n\u001b[1;32m   2187\u001b[0m             (box[\u001b[38;5;241m1\u001b[39m] \u001b[38;5;241m-\u001b[39m reduce_box[\u001b[38;5;241m1\u001b[39m]) \u001b[38;5;241m/\u001b[39m factor_y,\n\u001b[1;32m   2188\u001b[0m             (box[\u001b[38;5;241m2\u001b[39m] \u001b[38;5;241m-\u001b[39m reduce_box[\u001b[38;5;241m0\u001b[39m]) \u001b[38;5;241m/\u001b[39m factor_x,\n\u001b[1;32m   2189\u001b[0m             (box[\u001b[38;5;241m3\u001b[39m] \u001b[38;5;241m-\u001b[39m reduce_box[\u001b[38;5;241m1\u001b[39m]) \u001b[38;5;241m/\u001b[39m factor_y,\n\u001b[1;32m   2190\u001b[0m         )\n\u001b[0;32m-> 2192\u001b[0m \u001b[38;5;28;01mreturn\u001b[39;00m \u001b[38;5;28mself\u001b[39m\u001b[38;5;241m.\u001b[39m_new(\u001b[38;5;28;43mself\u001b[39;49m\u001b[38;5;241;43m.\u001b[39;49m\u001b[43mim\u001b[49m\u001b[38;5;241;43m.\u001b[39;49m\u001b[43mresize\u001b[49m\u001b[43m(\u001b[49m\u001b[43msize\u001b[49m\u001b[43m,\u001b[49m\u001b[43m \u001b[49m\u001b[43mresample\u001b[49m\u001b[43m,\u001b[49m\u001b[43m \u001b[49m\u001b[43mbox\u001b[49m\u001b[43m)\u001b[49m)\n",
      "\u001b[0;31mKeyboardInterrupt\u001b[0m: "
     ]
    }
   ],
   "source": [
    "device = device = torch.device(\"cuda:0\" if torch.cuda.is_available() else \"cpu\")\n",
    "epochs = 10\n",
    "print_every = 10\n",
    "batch = 0\n",
    "\n",
    "model_dn.to(device)\n",
    "\n",
    "for e in range (epochs): \n",
    "    running_loss = 0\n",
    "    running_accuracy=0\n",
    "    print(\"___Starting Epoch {}/{}___\".format(e+1,epochs))\n",
    "    \n",
    "    for i, (inputs, labels) in enumerate (trainloader):\n",
    "        batch += 1\n",
    "        inputs = inputs.to('cuda')\n",
    "        labels = labels.to('cuda')\n",
    "    \n",
    "        optimizer.zero_grad () \n",
    "    \n",
    "        # Forward and backward passes\n",
    "        outputs = model_dn.forward (inputs) #calculating output\n",
    "        loss = criterion (outputs, labels) #calculating loss\n",
    "        loss.backward () \n",
    "        optimizer.step () \n",
    "    \n",
    "        running_loss += loss.item () \n",
    "        \n",
    "        ps = torch.exp(outputs)\n",
    "        equality = (labels.data == ps.max(dim = 1)[1])\n",
    "        running_accuracy += equality.type(torch.FloatTensor).mean()\n",
    "        \n",
    "        if batch % print_every == 0:\n",
    "            model_dn.eval ()\n",
    "            \n",
    "           \n",
    "            with torch.no_grad():\n",
    "                valid_loss, accuracy = validation(device, model_dn, validloader, criterion)\n",
    "            \n",
    "            print(\"Epoch: {}/{}..\".format(e+1, epochs),\n",
    "                  \"Training Loss: {:.3f}.. \".format(running_loss/print_every),\n",
    "                  \"Training_Accuracy: {:.3f}\".format((running_accuracy/print_every)*100),\n",
    "                  \"Validation Loss: {:.3f}.. \".format(valid_loss/len(validloader)),\n",
    "                  \"Validation Accuracy: {:.3f}%\".format(accuracy/len(validloader)*100))\n",
    "            \n",
    "            running_loss = 0\n",
    "            \n",
    "            # Make sure training is back on\n",
    "            model_dn.train()\n",
    "            "
   ]
  },
  {
   "cell_type": "markdown",
   "metadata": {},
   "source": [
    "## Testing your network\n",
    "\n",
    "It's good practice to test your trained network on test data, images the network has never seen either in training or validation. This will give you a good estimate for the model's performance on completely new images. Run the test images through the network and measure the accuracy, the same way you did validation. You should be able to reach around 70% accuracy on the test set if the model has been trained well."
   ]
  },
  {
   "cell_type": "code",
   "execution_count": 29,
   "metadata": {},
   "outputs": [
    {
     "name": "stdout",
     "output_type": "stream",
     "text": [
      "Accuracy of the network on test images: 93 %\n"
     ]
    },
    {
     "data": {
      "text/plain": [
       "819"
      ]
     },
     "execution_count": 29,
     "metadata": {},
     "output_type": "execute_result"
    }
   ],
   "source": [
    "# TODO: Do validation on the test set\n",
    "total = 0\n",
    "test_pred = 0\n",
    "\n",
    "\n",
    "with torch.no_grad ():\n",
    "    for k in testloader:\n",
    "        inputs, labels = k\n",
    "        inputs = inputs.to('cuda')\n",
    "        labels = labels.to('cuda')\n",
    "        outputs = model_dn(inputs)\n",
    "        _, preds = torch.max (outputs.data,1)\n",
    "        total += labels.size (0)\n",
    "       \n",
    "        test_pred += (preds == labels).sum().item()\n",
    "\n",
    "print('Accuracy of the network on test images: %d %%' % (100 * test_pred / total))\n",
    "total"
   ]
  },
  {
   "cell_type": "markdown",
   "metadata": {},
   "source": [
    "## Save the checkpoint\n",
    "\n",
    "Now that your network is trained, save the model so you can load it later for making predictions. You probably want to save other things such as the mapping of classes to indices which you get from one of the image datasets: `image_datasets['train'].class_to_idx`. You can attach this to the model as an attribute which makes inference easier later on.\n",
    "\n",
    "```model.class_to_idx = image_datasets['train'].class_to_idx```\n",
    "\n",
    "Remember that you'll want to completely rebuild the model later so you can use it for inference. Make sure to include any information you need in the checkpoint. If you want to load the model and keep training, you'll want to save the number of epochs as well as the optimizer state, `optimizer.state_dict`. You'll likely want to use this trained model in the next part of the project, so best to save it now."
   ]
  },
  {
   "cell_type": "code",
   "execution_count": 51,
   "metadata": {},
   "outputs": [],
   "source": [
    "# TODO: Save the checkpoint \n",
    "model_dn.to ('cpu') \n",
    "model_dn.class_to_idx = image_datasets['train_data'].class_to_idx \n",
    "\n",
    "#creating dictionary \n",
    "checkpoint = {'classifier': model_dn.classifier,\n",
    "              'state_dict': model_dn.state_dict (),\n",
    "              'mapping':    model_dn.class_to_idx\n",
    "             }        \n",
    "\n",
    "torch.save (checkpoint, 'classifier_checkpoint.pth')"
   ]
  },
  {
   "cell_type": "markdown",
   "metadata": {},
   "source": [
    "## Loading the checkpoint\n",
    "\n",
    "At this point it's good to write a function that can load a checkpoint and rebuild the model. That way you can come back to this project and keep working on it without having to retrain the network."
   ]
  },
  {
   "cell_type": "code",
   "execution_count": 52,
   "metadata": {},
   "outputs": [],
   "source": [
    "# TODO: Write a function that loads a checkpoint and rebuilds the model\n",
    "def load_model(file_path):\n",
    "    checkpoint = torch.load(file_path)\n",
    "    model = models.densenet121(pretrained=True)  \n",
    "\n",
    "    # Update the classifier\n",
    "    model.classifier = checkpoint['classifier']\n",
    "\n",
    "    # Load the state_dict\n",
    "    model.load_state_dict(checkpoint['state_dict'], strict=False)\n",
    "\n",
    "    if 'mapping' in checkpoint:\n",
    "        model.class_to_idx = checkpoint['mapping']\n",
    "\n",
    "    return model"
   ]
  },
  {
   "cell_type": "markdown",
   "metadata": {},
   "source": [
    "# Inference for classification\n",
    "\n",
    "Now you'll write a function to use a trained network for inference. That is, you'll pass an image into the network and predict the class of the flower in the image. Write a function called `predict` that takes an image and a model, then returns the top $K$ most likely classes along with the probabilities. It should look like \n",
    "\n",
    "```python\n",
    "probs, classes = predict(image_path, model)\n",
    "print(probs)\n",
    "print(classes)\n",
    "> [ 0.01558163  0.01541934  0.01452626  0.01443549  0.01407339]\n",
    "> ['70', '3', '45', '62', '55']\n",
    "```\n",
    "\n",
    "First you'll need to handle processing the input image such that it can be used in your network. \n",
    "\n",
    "## Image Preprocessing\n",
    "\n",
    "You'll want to use `PIL` to load the image ([documentation](https://pillow.readthedocs.io/en/latest/reference/Image.html)). It's best to write a function that preprocesses the image so it can be used as input for the model. This function should process the images in the same manner used for training. \n",
    "\n",
    "First, resize the images where the shortest side is 256 pixels, keeping the aspect ratio. This can be done with the [`thumbnail`](http://pillow.readthedocs.io/en/3.1.x/reference/Image.html#PIL.Image.Image.thumbnail) or [`resize`](http://pillow.readthedocs.io/en/3.1.x/reference/Image.html#PIL.Image.Image.thumbnail) methods. Then you'll need to crop out the center 224x224 portion of the image.\n",
    "\n",
    "Color channels of images are typically encoded as integers 0-255, but the model expected floats 0-1. You'll need to convert the values. It's easiest with a Numpy array, which you can get from a PIL image like so `np_image = np.array(pil_image)`.\n",
    "\n",
    "As before, the network expects the images to be normalized in a specific way. For the means, it's `[0.485, 0.456, 0.406]` and for the standard deviations `[0.229, 0.224, 0.225]`. You'll want to subtract the means from each color channel, then divide by the standard deviation. \n",
    "\n",
    "And finally, PyTorch expects the color channel to be the first dimension but it's the third dimension in the PIL image and Numpy array. You can reorder dimensions using [`ndarray.transpose`](https://docs.scipy.org/doc/numpy-1.13.0/reference/generated/numpy.ndarray.transpose.html). The color channel needs to be first and retain the order of the other two dimensions."
   ]
  },
  {
   "cell_type": "code",
   "execution_count": 53,
   "metadata": {},
   "outputs": [],
   "source": [
    "def process_image(image):\n",
    "    ''' Scales, crops, and normalizes a PIL image for a PyTorch model,\n",
    "        returns an Numpy array\n",
    "    '''\n",
    "    image = Image.open (image) #loading image\n",
    "    width, height = image.size #original size\n",
    "    \n",
    "    if width > height: \n",
    "        height = 256\n",
    "        image.thumbnail ((50000, height), Image.ANTIALIAS)\n",
    "    else: \n",
    "        width = 256\n",
    "        image.thumbnail ((width,50000), Image.ANTIALIAS)\n",
    "        \n",
    "    \n",
    "    width, height = image.size \n",
    "    crop = 224\n",
    "    left_crop = (width - crop)/2 \n",
    "    top_crop = (height - crop)/2\n",
    "    right_crop = left_crop + 224 \n",
    "    bottom_crop = top_crop + 224\n",
    "    image = image.crop ((left_crop, top_crop, right_crop, bottom_crop))\n",
    "    \n",
    "    #preparing numpy array\n",
    "    np_image = np.array (image)/255 #to make values from 0 to 1\n",
    "    np_image -= np.array ([0.485, 0.456, 0.406]) \n",
    "    np_image /= np.array ([0.229, 0.224, 0.225])\n",
    "    \n",
    "    np_image= np_image.transpose ((2,0,1))\n",
    "    return np_image\n",
    "    # TODO: Process a PIL image for use in a PyTorch model"
   ]
  },
  {
   "cell_type": "markdown",
   "metadata": {},
   "source": [
    "To check your work, the function below converts a PyTorch tensor and displays it in the notebook. If your `process_image` function works, running the output through this function should return the original image (except for the cropped out portions)."
   ]
  },
  {
   "cell_type": "code",
   "execution_count": 54,
   "metadata": {},
   "outputs": [],
   "source": [
    "def imshow(image, ax=None, title=None):\n",
    "    \"\"\"Imshow for Tensor.\"\"\"\n",
    "    if ax is None:\n",
    "        fig, ax = plt.subplots()\n",
    "    image = image.transpose((1, 2, 0))\n",
    "    \n",
    "    # Undo preprocessing\n",
    "    mean = np.array([0.485, 0.456, 0.406])\n",
    "    std = np.array([0.229, 0.224, 0.225])\n",
    "    image = std * image + mean\n",
    "    \n",
    "    # Image needs to be clipped between 0 and 1 or it looks like noise when displayed\n",
    "    image = np.clip(image, 0, 1)\n",
    "    \n",
    "    ax.imshow(image)\n",
    "    \n",
    "    return ax"
   ]
  },
  {
   "cell_type": "markdown",
   "metadata": {},
   "source": [
    "## Class Prediction\n",
    "\n",
    "Once you can get images in the correct format, it's time to write a function for making predictions with your model. A common practice is to predict the top 5 or so (usually called top-$K$) most probable classes. You'll want to calculate the class probabilities then find the $K$ largest values.\n",
    "\n",
    "To get the top $K$ largest values in a tensor use [`x.topk(k)`](http://pytorch.org/docs/master/torch.html#torch.topk). This method returns both the highest `k` probabilities and the indices of those probabilities corresponding to the classes. You need to convert from these indices to the actual class labels using `class_to_idx` which hopefully you added to the model or from an `ImageFolder` you used to load the data ([see here](#Save-the-checkpoint)). Make sure to invert the dictionary so you get a mapping from index to class as well.\n",
    "\n",
    "Again, this method should take a path to an image and a model checkpoint, then return the probabilities and classes.\n",
    "\n",
    "```python\n",
    "probs, classes = predict(image_path, model)\n",
    "print(probs)\n",
    "print(classes)\n",
    "> [ 0.01558163  0.01541934  0.01452626  0.01443549  0.01407339]\n",
    "> ['70', '3', '45', '62', '55']\n",
    "```"
   ]
  },
  {
   "cell_type": "code",
   "execution_count": 55,
   "metadata": {},
   "outputs": [],
   "source": [
    "def predict(image_path, model, topkl):\n",
    "    ''' Predict the class (or classes) of an image using a trained deep learning model.\n",
    "    '''\n",
    "    \n",
    "     # TODO: Implement the code to predict the class from an image file\n",
    "    image = process_image (image_path) #loading image and processing it using above defined function\n",
    "    \n",
    "    img  = torch.from_numpy (image).type (torch.FloatTensor)\n",
    "    \n",
    "    img = img.unsqueeze (dim = 0) \n",
    "        \n",
    "    with torch.no_grad ():\n",
    "        output = model.forward (img)\n",
    "    output_prob = torch.exp (output) #converting into a probability\n",
    "    \n",
    "    probs, indices = output_prob.topk (topkl)\n",
    "    probs = probs.numpy () #converting to numpy array\n",
    "    indices = indices.numpy () \n",
    "    \n",
    "    probs = probs.tolist () [0] #converting to list\n",
    "    indices = indices.tolist () [0]\n",
    "    \n",
    "    \n",
    "    mapping = {val: key for key, val in\n",
    "                model.class_to_idx.items()\n",
    "                }\n",
    "    \n",
    "    classes = [mapping [item] for item in indices]\n",
    "    \n",
    "    classes = np.array (classes) #converting to Numpy array \n",
    "    \n",
    "    return probs, classes\n",
    "    "
   ]
  },
  {
   "cell_type": "markdown",
   "metadata": {},
   "source": [
    "## Sanity Checking\n",
    "\n",
    "Now that you can use a trained model for predictions, check to make sure it makes sense. Even if the testing accuracy is high, it's always good to check that there aren't obvious bugs. Use `matplotlib` to plot the probabilities for the top 5 classes as a bar graph, along with the input image. It should look like this:\n",
    "\n",
    "<img src='assets/inference_example.png' width=300px>\n",
    "\n",
    "You can convert from the class integer encoding to actual flower names with the `cat_to_name.json` file (should have been loaded earlier in the notebook). To show a PyTorch tensor as an image, use the `imshow` function defined above."
   ]
  },
  {
   "cell_type": "code",
   "execution_count": 57,
   "metadata": {
    "scrolled": true
   },
   "outputs": [
    {
     "name": "stderr",
     "output_type": "stream",
     "text": [
      "/opt/conda/lib/python3.10/site-packages/torchvision/models/_utils.py:208: UserWarning: The parameter 'pretrained' is deprecated since 0.13 and may be removed in the future, please use 'weights' instead.\n",
      "  warnings.warn(\n",
      "/opt/conda/lib/python3.10/site-packages/torchvision/models/_utils.py:223: UserWarning: Arguments other than a weight enum or `None` for 'weights' are deprecated since 0.13 and may be removed in the future. The current behavior is equivalent to passing `weights=DenseNet121_Weights.IMAGENET1K_V1`. You can also use `weights=DenseNet121_Weights.DEFAULT` to get the most up-to-date weights.\n",
      "  warnings.warn(msg)\n"
     ]
    },
    {
     "ename": "FileNotFoundError",
     "evalue": "[Errno 2] No such file or directory: 'flowers/test/10/image_07899.jpg'",
     "output_type": "error",
     "traceback": [
      "\u001b[0;31m---------------------------------------------------------------------------\u001b[0m",
      "\u001b[0;31mFileNotFoundError\u001b[0m                         Traceback (most recent call last)",
      "Cell \u001b[0;32mIn[57], line 4\u001b[0m\n\u001b[1;32m      2\u001b[0m model_1 \u001b[38;5;241m=\u001b[39m load_model (\u001b[38;5;124m'\u001b[39m\u001b[38;5;124mclassifier_checkpoint.pth\u001b[39m\u001b[38;5;124m'\u001b[39m)\n\u001b[1;32m      3\u001b[0m file_path \u001b[38;5;241m=\u001b[39m \u001b[38;5;124m'\u001b[39m\u001b[38;5;124mflowers/test/10/image_07899.jpg\u001b[39m\u001b[38;5;124m'\u001b[39m \n\u001b[0;32m----> 4\u001b[0m img \u001b[38;5;241m=\u001b[39m \u001b[43mprocess_image\u001b[49m\u001b[43m \u001b[49m\u001b[43m(\u001b[49m\u001b[43mfile_path\u001b[49m\u001b[43m)\u001b[49m\n\u001b[1;32m      5\u001b[0m imshow (img)\n\u001b[1;32m      6\u001b[0m plt\u001b[38;5;241m.\u001b[39mshow()\n",
      "Cell \u001b[0;32mIn[53], line 5\u001b[0m, in \u001b[0;36mprocess_image\u001b[0;34m(image)\u001b[0m\n\u001b[1;32m      1\u001b[0m \u001b[38;5;28;01mdef\u001b[39;00m \u001b[38;5;21mprocess_image\u001b[39m(image):\n\u001b[1;32m      2\u001b[0m \u001b[38;5;250m    \u001b[39m\u001b[38;5;124;03m''' Scales, crops, and normalizes a PIL image for a PyTorch model,\u001b[39;00m\n\u001b[1;32m      3\u001b[0m \u001b[38;5;124;03m        returns an Numpy array\u001b[39;00m\n\u001b[1;32m      4\u001b[0m \u001b[38;5;124;03m    '''\u001b[39;00m\n\u001b[0;32m----> 5\u001b[0m     image \u001b[38;5;241m=\u001b[39m \u001b[43mImage\u001b[49m\u001b[38;5;241;43m.\u001b[39;49m\u001b[43mopen\u001b[49m\u001b[43m \u001b[49m\u001b[43m(\u001b[49m\u001b[43mimage\u001b[49m\u001b[43m)\u001b[49m \u001b[38;5;66;03m#loading image\u001b[39;00m\n\u001b[1;32m      6\u001b[0m     width, height \u001b[38;5;241m=\u001b[39m image\u001b[38;5;241m.\u001b[39msize \u001b[38;5;66;03m#original size\u001b[39;00m\n\u001b[1;32m      8\u001b[0m     \u001b[38;5;28;01mif\u001b[39;00m width \u001b[38;5;241m>\u001b[39m height: \n",
      "File \u001b[0;32m/opt/conda/lib/python3.10/site-packages/PIL/Image.py:3227\u001b[0m, in \u001b[0;36mopen\u001b[0;34m(fp, mode, formats)\u001b[0m\n\u001b[1;32m   3224\u001b[0m     filename \u001b[38;5;241m=\u001b[39m fp\n\u001b[1;32m   3226\u001b[0m \u001b[38;5;28;01mif\u001b[39;00m filename:\n\u001b[0;32m-> 3227\u001b[0m     fp \u001b[38;5;241m=\u001b[39m \u001b[43mbuiltins\u001b[49m\u001b[38;5;241;43m.\u001b[39;49m\u001b[43mopen\u001b[49m\u001b[43m(\u001b[49m\u001b[43mfilename\u001b[49m\u001b[43m,\u001b[49m\u001b[43m \u001b[49m\u001b[38;5;124;43m\"\u001b[39;49m\u001b[38;5;124;43mrb\u001b[39;49m\u001b[38;5;124;43m\"\u001b[39;49m\u001b[43m)\u001b[49m\n\u001b[1;32m   3228\u001b[0m     exclusive_fp \u001b[38;5;241m=\u001b[39m \u001b[38;5;28;01mTrue\u001b[39;00m\n\u001b[1;32m   3230\u001b[0m \u001b[38;5;28;01mtry\u001b[39;00m:\n",
      "\u001b[0;31mFileNotFoundError\u001b[0m: [Errno 2] No such file or directory: 'flowers/test/10/image_07899.jpg'"
     ]
    }
   ],
   "source": [
    "import seaborn as sns\n",
    "model_1 = load_model ('classifier_checkpoint.pth')\n",
    "file_path = 'flowers/test/10/image_07899.jpg' \n",
    "img = process_image (file_path)\n",
    "imshow (img)\n",
    "plt.show()\n",
    "prob_val, classes = predict (file_path, model_1, 5)\n",
    "\n",
    "\n",
    "#preparing class_names using mapping with cat_to_name\n",
    "\n",
    "class_names = [cat_to_name [item] for item in classes]\n",
    "\n",
    "\n",
    "plt.figure(figsize = (6,10))\n",
    "plt.subplot(2,1,2)\n",
    "\n",
    "sns.barplot(x=prob_val, y=class_names, color= 'green');\n",
    "\n",
    "plt.show()"
   ]
  },
  {
   "cell_type": "code",
   "execution_count": 56,
   "metadata": {},
   "outputs": [],
   "source": [
    "# TODO: Display an image along with the top 5 classes\n",
    "print(\"\\nFlower name (probability): \")\n",
    "print(\"*********\")\n",
    "for i in range(len(probs)):\n",
    "    print(f\"{classes_name[i]} ({round(probs[i], 3)})\")\n",
    "print(\"\")"
   ]
  },
  {
   "cell_type": "markdown",
   "metadata": {},
   "source": [
    "## Reminder for Workspace users\n",
    "If your network becomes very large when saved as a checkpoint, there might be issues with saving backups in your workspace. You should reduce the size of your hidden layers and train again. \n",
    "    \n",
    "We strongly encourage you to delete these large interim files and directories before navigating to another page or closing the browser tab."
   ]
  },
  {
   "cell_type": "code",
   "execution_count": 2,
   "metadata": {},
   "outputs": [],
   "source": [
    "# TODO remove .pth files or move it to a temporary `~/opt` directory in this Workspace"
   ]
  },
  {
   "cell_type": "code",
   "execution_count": null,
   "metadata": {},
   "outputs": [],
   "source": []
  }
 ],
 "metadata": {
  "kernelspec": {
   "display_name": "Python 3 (ipykernel)",
   "language": "python",
   "name": "python3"
  },
  "language_info": {
   "codemirror_mode": {
    "name": "ipython",
    "version": 3
   },
   "file_extension": ".py",
   "mimetype": "text/x-python",
   "name": "python",
   "nbconvert_exporter": "python",
   "pygments_lexer": "ipython3",
   "version": "3.10.11"
  }
 },
 "nbformat": 4,
 "nbformat_minor": 2
}
